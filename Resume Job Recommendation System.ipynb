{
 "cells": [
  {
   "cell_type": "code",
   "execution_count": 1,
   "id": "915bba4e-c090-43ad-80a1-6caaef96a46b",
   "metadata": {},
   "outputs": [],
   "source": [
    "import pandas as pd"
   ]
  },
  {
   "cell_type": "code",
   "execution_count": 3,
   "id": "854f2faf-f53b-4175-bd34-18de04fae2e2",
   "metadata": {},
   "outputs": [],
   "source": [
    "df = pd.read_csv(\"Datasets/jobs_dataset_with_features.csv\")"
   ]
  },
  {
   "cell_type": "code",
   "execution_count": 4,
   "id": "5b7ae098-9195-469c-b26e-e45c5b4c740e",
   "metadata": {},
   "outputs": [
    {
     "data": {
      "text/plain": [
       "(1615940, 2)"
      ]
     },
     "execution_count": 4,
     "metadata": {},
     "output_type": "execute_result"
    }
   ],
   "source": [
    "df.shape"
   ]
  },
  {
   "cell_type": "code",
   "execution_count": 6,
   "id": "15fc0086-f1c2-4617-aaa7-f1f6d3b64baf",
   "metadata": {},
   "outputs": [
    {
     "data": {
      "text/html": [
       "<div>\n",
       "<style scoped>\n",
       "    .dataframe tbody tr th:only-of-type {\n",
       "        vertical-align: middle;\n",
       "    }\n",
       "\n",
       "    .dataframe tbody tr th {\n",
       "        vertical-align: top;\n",
       "    }\n",
       "\n",
       "    .dataframe thead th {\n",
       "        text-align: right;\n",
       "    }\n",
       "</style>\n",
       "<table border=\"1\" class=\"dataframe\">\n",
       "  <thead>\n",
       "    <tr style=\"text-align: right;\">\n",
       "      <th></th>\n",
       "      <th>Role</th>\n",
       "      <th>Features</th>\n",
       "    </tr>\n",
       "  </thead>\n",
       "  <tbody>\n",
       "    <tr>\n",
       "      <th>0</th>\n",
       "      <td>Social Media Manager</td>\n",
       "      <td>5 to 15 Years Digital Marketing Specialist M.T...</td>\n",
       "    </tr>\n",
       "    <tr>\n",
       "      <th>1</th>\n",
       "      <td>Frontend Web Developer</td>\n",
       "      <td>2 to 12 Years Web Developer BCA HTML, CSS, Jav...</td>\n",
       "    </tr>\n",
       "    <tr>\n",
       "      <th>2</th>\n",
       "      <td>Quality Control Manager</td>\n",
       "      <td>0 to 12 Years Operations Manager PhD Quality c...</td>\n",
       "    </tr>\n",
       "    <tr>\n",
       "      <th>3</th>\n",
       "      <td>Wireless Network Engineer</td>\n",
       "      <td>4 to 11 Years Network Engineer PhD Wireless ne...</td>\n",
       "    </tr>\n",
       "    <tr>\n",
       "      <th>4</th>\n",
       "      <td>Conference Manager</td>\n",
       "      <td>1 to 12 Years Event Manager MBA Event planning...</td>\n",
       "    </tr>\n",
       "  </tbody>\n",
       "</table>\n",
       "</div>"
      ],
      "text/plain": [
       "                        Role  \\\n",
       "0       Social Media Manager   \n",
       "1     Frontend Web Developer   \n",
       "2    Quality Control Manager   \n",
       "3  Wireless Network Engineer   \n",
       "4         Conference Manager   \n",
       "\n",
       "                                            Features  \n",
       "0  5 to 15 Years Digital Marketing Specialist M.T...  \n",
       "1  2 to 12 Years Web Developer BCA HTML, CSS, Jav...  \n",
       "2  0 to 12 Years Operations Manager PhD Quality c...  \n",
       "3  4 to 11 Years Network Engineer PhD Wireless ne...  \n",
       "4  1 to 12 Years Event Manager MBA Event planning...  "
      ]
     },
     "execution_count": 6,
     "metadata": {},
     "output_type": "execute_result"
    }
   ],
   "source": [
    "df.head()"
   ]
  },
  {
   "cell_type": "code",
   "execution_count": 8,
   "id": "3cb301c2-28bd-42db-801f-9fcfc431261a",
   "metadata": {},
   "outputs": [
    {
     "data": {
      "text/plain": [
       "Role\n",
       "Interaction Designer            20580\n",
       "Network Administrator           17470\n",
       "User Interface Designer         14036\n",
       "Social Media Manager            13945\n",
       "User Experience Designer        13935\n",
       "                                ...  \n",
       "Inventory Control Specialist     3342\n",
       "Budget Analyst                   3335\n",
       "Clinical Nurse Manager           3324\n",
       "Social Science Researcher        3321\n",
       "Paid Advertising Specialist      3306\n",
       "Name: count, Length: 376, dtype: int64"
      ]
     },
     "execution_count": 8,
     "metadata": {},
     "output_type": "execute_result"
    }
   ],
   "source": [
    "df['Role'].value_counts()"
   ]
  },
  {
   "cell_type": "code",
   "execution_count": 9,
   "id": "1af02057-75e6-4f85-8e16-ca333c0efd50",
   "metadata": {},
   "outputs": [
    {
     "data": {
      "text/plain": [
       "Role\n",
       "Interaction Designer          20580\n",
       "Network Administrator         17470\n",
       "User Interface Designer       14036\n",
       "Social Media Manager          13945\n",
       "User Experience Designer      13935\n",
       "                              ...  \n",
       "Benefits Coordinator           6839\n",
       "Research Analyst               6830\n",
       "Administrative Coordinator     6803\n",
       "IT Support Specialist          6799\n",
       "UI/UX Designer                 6743\n",
       "Name: count, Length: 61, dtype: int64"
      ]
     },
     "execution_count": 9,
     "metadata": {},
     "output_type": "execute_result"
    }
   ],
   "source": [
    "# Dropping classes with less than 6500 instances\n",
    "min_count = 6500\n",
    "role_counts = df['Role'].value_counts()\n",
    "dropped_classes = role_counts[role_counts < min_count].index\n",
    "filtered_df = df[~df['Role'].isin(dropped_classes)].reset_index(drop=True)\n",
    "\n",
    "# Checking the updated role counts\n",
    "filtered_df['Role'].value_counts()"
   ]
  },
  {
   "cell_type": "code",
   "execution_count": 10,
   "id": "22b45cd3-b09f-4a16-a85b-b0f10235e4ae",
   "metadata": {},
   "outputs": [],
   "source": [
    "df = filtered_df.sample(n=10000)"
   ]
  },
  {
   "cell_type": "code",
   "execution_count": 11,
   "id": "7ad64e6f-8184-4656-bf9e-b1dd0dbcbb98",
   "metadata": {},
   "outputs": [
    {
     "data": {
      "text/html": [
       "<div>\n",
       "<style scoped>\n",
       "    .dataframe tbody tr th:only-of-type {\n",
       "        vertical-align: middle;\n",
       "    }\n",
       "\n",
       "    .dataframe tbody tr th {\n",
       "        vertical-align: top;\n",
       "    }\n",
       "\n",
       "    .dataframe thead th {\n",
       "        text-align: right;\n",
       "    }\n",
       "</style>\n",
       "<table border=\"1\" class=\"dataframe\">\n",
       "  <thead>\n",
       "    <tr style=\"text-align: right;\">\n",
       "      <th></th>\n",
       "      <th>Role</th>\n",
       "      <th>Features</th>\n",
       "    </tr>\n",
       "  </thead>\n",
       "  <tbody>\n",
       "    <tr>\n",
       "      <th>60602</th>\n",
       "      <td>Network Administrator</td>\n",
       "      <td>0 to 13 Years Network Engineer M.Com Network m...</td>\n",
       "    </tr>\n",
       "    <tr>\n",
       "      <th>203433</th>\n",
       "      <td>DevOps Engineer</td>\n",
       "      <td>4 to 15 Years Software Engineer M.Tech Automat...</td>\n",
       "    </tr>\n",
       "    <tr>\n",
       "      <th>507666</th>\n",
       "      <td>Automation Tester</td>\n",
       "      <td>5 to 13 Years Software Tester BBA Test automat...</td>\n",
       "    </tr>\n",
       "    <tr>\n",
       "      <th>444540</th>\n",
       "      <td>Market Researcher</td>\n",
       "      <td>5 to 11 Years Market Research Analyst PhD Mark...</td>\n",
       "    </tr>\n",
       "    <tr>\n",
       "      <th>493949</th>\n",
       "      <td>Procurement Analyst</td>\n",
       "      <td>5 to 8 Years Procurement Manager B.Tech Procur...</td>\n",
       "    </tr>\n",
       "  </tbody>\n",
       "</table>\n",
       "</div>"
      ],
      "text/plain": [
       "                         Role  \\\n",
       "60602   Network Administrator   \n",
       "203433        DevOps Engineer   \n",
       "507666      Automation Tester   \n",
       "444540      Market Researcher   \n",
       "493949    Procurement Analyst   \n",
       "\n",
       "                                                 Features  \n",
       "60602   0 to 13 Years Network Engineer M.Com Network m...  \n",
       "203433  4 to 15 Years Software Engineer M.Tech Automat...  \n",
       "507666  5 to 13 Years Software Tester BBA Test automat...  \n",
       "444540  5 to 11 Years Market Research Analyst PhD Mark...  \n",
       "493949  5 to 8 Years Procurement Manager B.Tech Procur...  "
      ]
     },
     "execution_count": 11,
     "metadata": {},
     "output_type": "execute_result"
    }
   ],
   "source": [
    "df.head()"
   ]
  },
  {
   "cell_type": "code",
   "execution_count": 12,
   "id": "2321dfec-a485-4ba6-945d-e14ed4f77931",
   "metadata": {},
   "outputs": [],
   "source": [
    "from sklearn.model_selection import train_test_split\n",
    "from sklearn.feature_extraction.text import TfidfVectorizer\n",
    "from sklearn.ensemble import RandomForestClassifier\n",
    "from sklearn.metrics import accuracy_score\n",
    "\n",
    "# Splitting the data into features (X) and target (y)\n",
    "X = df['Features']\n",
    "y = df['Role']\n",
    "\n",
    "# Train-test split\n",
    "X_train, X_test, y_train, y_test = train_test_split(X, y, test_size=0.2, random_state=42)\n",
    "\n",
    "# TF-IDF vectorization\n",
    "tfidf_vectorizer = TfidfVectorizer()\n",
    "X_train_tfidf = tfidf_vectorizer.fit_transform(X_train)\n",
    "X_test_tfidf = tfidf_vectorizer.transform(X_test)"
   ]
  },
  {
   "cell_type": "code",
   "execution_count": 13,
   "id": "2934315b-aa2b-46de-bb86-bd4e71abd032",
   "metadata": {},
   "outputs": [
    {
     "name": "stdout",
     "output_type": "stream",
     "text": [
      "Accuracy: 1.0\n"
     ]
    }
   ],
   "source": [
    "# RandomForestClassifier\n",
    "rf_classifier = RandomForestClassifier()\n",
    "rf_classifier.fit(X_train_tfidf, y_train)\n",
    "\n",
    "# Predictions\n",
    "y_pred = rf_classifier.predict(X_test_tfidf)\n",
    "\n",
    "# Accuracy\n",
    "accuracy = accuracy_score(y_test, y_pred)\n",
    "print(\"Accuracy:\", accuracy)"
   ]
  },
  {
   "cell_type": "code",
   "execution_count": 14,
   "id": "01324d48-de2e-4f41-bdb2-dc5d0f120061",
   "metadata": {},
   "outputs": [],
   "source": [
    "# Clean resume\n",
    "import re\n",
    "def cleanResume(txt):\n",
    "    cleanText = re.sub(r'http\\S+\\s', ' ', txt)  # Match URLs\n",
    "    cleanText = re.sub(r'RT|cc', ' ', cleanText)  # Remove RT or cc\n",
    "    cleanText = re.sub(r'#\\S+\\s', ' ', cleanText)  # Remove hashtags\n",
    "    cleanText = re.sub(r'@\\S+', '  ', cleanText)  # Remove mentions\n",
    "    cleanText = re.sub(r'[!\"#$%&\\'()*+,-./:;<=>?@[\\]^_`{|}~]', ' ', cleanText)  # Remove special characters\n",
    "    cleanText = re.sub(r'[^\\x00-\\x7f]', ' ', cleanText)  # Remove non-ASCII characters\n",
    "    cleanText = re.sub(r'\\s+', ' ', cleanText)  # Normalize whitespace\n",
    "    return cleanText\n",
    "\n",
    "\n",
    "# Prediction and Category Name\n",
    "def job_recommendation(resume_text):\n",
    "    resume_text= cleanResume(resume_text)\n",
    "    resume_tfidf = tfidf_vectorizer.transform([resume_text])\n",
    "    predicted_category = rf_classifier.predict(resume_tfidf)[0]\n",
    "    return predicted_category"
   ]
  },
  {
   "cell_type": "code",
   "execution_count": 15,
   "id": "b22ea487-4603-4167-9bd6-db8e3a0a8002",
   "metadata": {},
   "outputs": [
    {
     "name": "stdout",
     "output_type": "stream",
     "text": [
      "Predicted Category: User Interface Designer\n"
     ]
    }
   ],
   "source": [
    "# Example Usage\n",
    "resume_file = \"\"\"Objective:\n",
    "A creative and detail-oriented Designer with a passion for visual communication and brand identity seeking opportunities to leverage design skills in a dynamic and collaborative environment.\n",
    "\n",
    "Education:\n",
    "- Bachelor of Fine Arts in Graphic Design, XYZ College, GPA: 3.7/4.0\n",
    "- Diploma in Web Design, ABC Institute, GPA: 3.9/4.0\n",
    "\n",
    "Skills:\n",
    "- Proficient in Adobe Creative Suite (Photoshop, Illustrator, InDesign)\n",
    "- Strong understanding of typography, layout, and color theory\n",
    "- Experience in both print and digital design\n",
    "- Ability to conceptualize and execute design projects from concept to completion\n",
    "- Excellent attention to detail and time management skills\n",
    "\n",
    "Experience:\n",
    "Graphic Designer | XYZ Design Studio\n",
    "- Created visually appealing graphics for various marketing materials, including brochures, flyers, and social media posts\n",
    "- Collaborated with clients to understand their design needs and deliver creative solutions that align with their brand identity\n",
    "- Worked closely with the marketing team to ensure consistency in brand messaging across all platforms\n",
    "\n",
    "Freelance Designer\n",
    "- Designed logos, branding materials, and website layouts for small businesses and startups\n",
    "- Managed multiple projects simultaneously while meeting tight deadlines and maintaining quality standards\n",
    "- Established and maintained strong client relationships through clear communication and exceptional service\n",
    "\n",
    "Projects:\n",
    "- Rebranding Campaign for XYZ Company: Led a team to redesign the company's logo, website, and marketing collateral, resulting in a 30% increase in brand recognition\n",
    "- Packaging Design for ABC Product Launch: Developed eye-catching packaging designs for a new product line, contributing to a successful launch and positive customer feedback\n",
    "\n",
    "Certifications:\n",
    "- Adobe Certified Expert (ACE) in Adobe Illustrator\n",
    "- Responsive Web Design Certification from Udemy\n",
    "\n",
    "Languages:\n",
    "- English (Native)\n",
    "- Spanish (Intermediate)\n",
    "\"\"\"\n",
    "predicted_category = job_recommendation(resume_file)\n",
    "print(\"Predicted Category:\", predicted_category)"
   ]
  },
  {
   "cell_type": "code",
   "execution_count": 18,
   "id": "b90e90b8-203d-469c-9f2a-3414cb5644b5",
   "metadata": {},
   "outputs": [
    {
     "name": "stdout",
     "output_type": "stream",
     "text": [
      "Predicted Category: Procurement Analyst\n"
     ]
    }
   ],
   "source": [
    "# Example Usage\n",
    "resume_file = \"\"\"Objective:\n",
    "Dedicated and results-oriented Banking professional with a strong background in financial analysis and customer service seeking opportunities to contribute to a reputable financial institution. Eager to leverage expertise in risk management, investment strategies, and relationship building to drive business growth and client satisfaction.\n",
    "\n",
    "Education:\n",
    "- Bachelor of Business Administration in Finance, XYZ University, GPA: 3.8/4.0\n",
    "- Certified Financial Analyst (CFA) Level I Candidate\n",
    "\n",
    "Skills:\n",
    "- Proficient in financial modeling and analysis using Excel, Bloomberg Terminal, and other financial software\n",
    "- Extensive knowledge of banking products and services, including loans, mortgages, and investment products\n",
    "- Strong understanding of regulatory compliance and risk management practices in the banking industry\n",
    "- Excellent communication and interpersonal skills, with a focus on building rapport with clients and colleagues\n",
    "- Ability to work efficiently under pressure and adapt to changing market conditions\n",
    "\n",
    "Experience:\n",
    "Financial Analyst | ABC Bank\n",
    "- Conducted financial analysis and risk assessment for corporate clients, including credit analysis, financial statement analysis, and cash flow modeling\n",
    "- Developed customized financial solutions to meet clients' needs and objectives, resulting in increased revenue and client retention\n",
    "- Collaborated with cross-functional teams to identify new business opportunities and optimize existing processes\n",
    "\n",
    "Customer Service Representative | DEF Bank\n",
    "- Provided exceptional customer service to bank clients, addressing inquiries, resolving issues, and promoting banking products and services\n",
    "- Processed transactions accurately and efficiently, including deposits, withdrawals, and account transfers\n",
    "- Educated customers on various banking products and services, helping them make informed financial decisions\n",
    "\n",
    "Internship | GHI Investments\n",
    "- Assisted portfolio managers with investment research and analysis, including industry and company-specific research, financial modeling, and performance analysis\n",
    "- Prepared investment presentations and reports for clients, highlighting investment opportunities and performance metrics\n",
    "- Conducted market research and analysis to identify trends and opportunities in the financial markets\n",
    "\n",
    "Certifications:\n",
    "- Certified Financial Planner (CFP)\n",
    "- Series 7 and Series 63 Securities Licenses\n",
    "\n",
    "Languages:\n",
    "- English (Native)\n",
    "- Spanish (Proficient)\n",
    "\n",
    "\"\"\"\n",
    "predicted_category = job_recommendation(resume_file)\n",
    "print(\"Predicted Category:\", predicted_category)"
   ]
  },
  {
   "cell_type": "code",
   "execution_count": 19,
   "id": "acde2892-5626-40b4-b9f6-986e31e02ec1",
   "metadata": {},
   "outputs": [],
   "source": [
    "import pickle\n",
    "pickle.dump(rf_classifier,open('rf_classifier_job_recommendation.pkl','wb'))\n",
    "pickle.dump(tfidf_vectorizer,open('tfidf_vectorizer_job_recommendation.pkl','wb'))"
   ]
  },
  {
   "cell_type": "code",
   "execution_count": null,
   "id": "b9c2696e-c607-4ffe-a8e0-fc0a142135e1",
   "metadata": {},
   "outputs": [],
   "source": []
  }
 ],
 "metadata": {
  "kernelspec": {
   "display_name": "Python 3 (ipykernel)",
   "language": "python",
   "name": "python3"
  },
  "language_info": {
   "codemirror_mode": {
    "name": "ipython",
    "version": 3
   },
   "file_extension": ".py",
   "mimetype": "text/x-python",
   "name": "python",
   "nbconvert_exporter": "python",
   "pygments_lexer": "ipython3",
   "version": "3.13.0"
  }
 },
 "nbformat": 4,
 "nbformat_minor": 5
}
